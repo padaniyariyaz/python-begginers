{
 "cells": [
  {
   "cell_type": "code",
   "execution_count": 4,
   "metadata": {},
   "outputs": [
    {
     "name": "stdout",
     "output_type": "stream",
     "text": [
      "Please enter a number between 1-6 3\n",
      "you loose random number generated was\n",
      "1\n"
     ]
    }
   ],
   "source": [
    "import random\n",
    "Dice_roll = range(1,7)\n",
    "Random_num = random.choice(Dice_roll)\n",
    "a = int(input(\"Please enter a number between 1-6 \"))\n",
    "        \n",
    "def Check_number(a):\n",
    "    if a == Random_num:\n",
    "        print(\"Win\")\n",
    "    else:\n",
    "        print(\"you loose random number generated was\")\n",
    "        print(Random_num)\n",
    "Check_number(a)"
   ]
  },
  {
   "cell_type": "code",
   "execution_count": null,
   "metadata": {},
   "outputs": [],
   "source": []
  },
  {
   "cell_type": "code",
   "execution_count": null,
   "metadata": {},
   "outputs": [],
   "source": []
  }
 ],
 "metadata": {
  "kernelspec": {
   "display_name": "Python 3",
   "language": "python",
   "name": "python3"
  },
  "language_info": {
   "codemirror_mode": {
    "name": "ipython",
    "version": 3
   },
   "file_extension": ".py",
   "mimetype": "text/x-python",
   "name": "python",
   "nbconvert_exporter": "python",
   "pygments_lexer": "ipython3",
   "version": "3.7.6"
  }
 },
 "nbformat": 4,
 "nbformat_minor": 4
}
