{
 "cells": [
  {
   "cell_type": "code",
   "execution_count": 1,
   "metadata": {},
   "outputs": [],
   "source": [
    "import random"
   ]
  },
  {
   "cell_type": "code",
   "execution_count": 19,
   "metadata": {},
   "outputs": [
    {
     "name": "stdout",
     "output_type": "stream",
     "text": [
      "Your maximum attempt is: 7\n",
      "Length of the word is: 4\n",
      "l\n",
      "this is your turn number: 2\n",
      "Number of aplhabets left: 3\n",
      "q\n",
      "3\n",
      "this is your turn number: 3\n",
      "Number of aplhabets left: 3\n",
      "v\n",
      "this is your turn number: 4\n",
      "Number of aplhabets left: 2\n",
      "w\n",
      "2\n",
      "this is your turn number: 5\n",
      "Number of aplhabets left: 2\n",
      "e\n",
      "this is your turn number: 6\n",
      "Number of aplhabets left: 1\n",
      "o\n",
      "this is your turn number: 7\n",
      "Number of aplhabets left: 0\n",
      "You won. The right word is: LOVE\n"
     ]
    }
   ],
   "source": [
    "list_words = [\"celebration\", \"happy\",\"love\",\"earth\",\"holiday\",\"vacation\",\"sad\"]\n",
    "word = random.choice(list_words)\n",
    "temp = word\n",
    "count = 1\n",
    "max_chance = len(word)+3\n",
    "print(\"Your maximum attempt is: \"+ str(max_chance))\n",
    "print(\"Length of the word is: \" + str(len(word)))\n",
    "while count < max_chance:\n",
    "    guess = input(\"\")\n",
    "    if guess in word:\n",
    "        temp = temp.replace(guess,'')\n",
    "        count+=1\n",
    "        print(\"this is your turn number: \" + str(count))\n",
    "        print(\"Number of aplhabets left: \" +str(len(temp)))\n",
    "        if len(temp) == 0:\n",
    "            print(\"You won. The right word is: \" + word.upper())\n",
    "            break\n",
    "    else:\n",
    "        print(len(temp))\n",
    "        count+=1\n",
    "        print(\"this is your turn number: \" + str(count))\n",
    "        print(\"Number of aplhabets left: \" +str(len(temp)))\n",
    "    if count == max_chance:\n",
    "        print(\"You Loose. The right word was: \" + word.upper())\n",
    "        break"
   ]
  },
  {
   "cell_type": "code",
   "execution_count": null,
   "metadata": {},
   "outputs": [],
   "source": []
  },
  {
   "cell_type": "code",
   "execution_count": null,
   "metadata": {},
   "outputs": [],
   "source": []
  }
 ],
 "metadata": {
  "kernelspec": {
   "display_name": "Python 3",
   "language": "python",
   "name": "python3"
  },
  "language_info": {
   "codemirror_mode": {
    "name": "ipython",
    "version": 3
   },
   "file_extension": ".py",
   "mimetype": "text/x-python",
   "name": "python",
   "nbconvert_exporter": "python",
   "pygments_lexer": "ipython3",
   "version": "3.7.6"
  }
 },
 "nbformat": 4,
 "nbformat_minor": 4
}
