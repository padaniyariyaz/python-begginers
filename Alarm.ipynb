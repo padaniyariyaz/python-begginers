{
 "cells": [
  {
   "cell_type": "code",
   "execution_count": 40,
   "metadata": {},
   "outputs": [],
   "source": [
    "import pygame\n",
    "import datetime"
   ]
  },
  {
   "cell_type": "code",
   "execution_count": 35,
   "metadata": {},
   "outputs": [
    {
     "data": {
      "text/plain": [
       "(6, 0)"
      ]
     },
     "execution_count": 35,
     "metadata": {},
     "output_type": "execute_result"
    }
   ],
   "source": [
    "pygame.init()"
   ]
  },
  {
   "cell_type": "code",
   "execution_count": 36,
   "metadata": {},
   "outputs": [],
   "source": [
    "azan = mixer.music.load('azan.mp3')"
   ]
  },
  {
   "cell_type": "code",
   "execution_count": null,
   "metadata": {},
   "outputs": [],
   "source": [
    "set_Hour = int(input(\"Set alarm hour: \"))\n",
    "set_Min= int(input(\"Set alarm min: \"))\n",
    "set_AmPm= input(\"AM\\PM: \")\n",
    "print(\"Alarm is set for: \", set_Hour, set_Min, set_AmPm)\n",
    "if set_AmPm == 'pm':\n",
    "    set_Hour = set_Hour+12\n",
    "while True:\n",
    "    if (set_Hour == datetime.datetime.now().hour and set_Min == datetime.datetime.now().minute):\n",
    "        mixer.music.play()\n",
    "    elif datetime.datetime.now().minute > set_Min or datetime.datetime.now().hour > set_Hour:\n",
    "        mixer.music.stop()\n",
    "        print(\"You'r late\")\n",
    "    break\n"
   ]
  },
  {
   "cell_type": "code",
   "execution_count": null,
   "metadata": {},
   "outputs": [],
   "source": [
    "mixer.music.stop()"
   ]
  },
  {
   "cell_type": "code",
   "execution_count": null,
   "metadata": {},
   "outputs": [],
   "source": []
  }
 ],
 "metadata": {
  "kernelspec": {
   "display_name": "Python 3",
   "language": "python",
   "name": "python3"
  },
  "language_info": {
   "codemirror_mode": {
    "name": "ipython",
    "version": 3
   },
   "file_extension": ".py",
   "mimetype": "text/x-python",
   "name": "python",
   "nbconvert_exporter": "python",
   "pygments_lexer": "ipython3",
   "version": "3.7.6"
  }
 },
 "nbformat": 4,
 "nbformat_minor": 4
}
