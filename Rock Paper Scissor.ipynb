{
 "cells": [
  {
   "cell_type": "code",
   "execution_count": 1,
   "metadata": {},
   "outputs": [],
   "source": [
    "import random"
   ]
  },
  {
   "cell_type": "code",
   "execution_count": 19,
   "metadata": {},
   "outputs": [
    {
     "name": "stdout",
     "output_type": "stream",
     "text": [
      "Input your choice: \n",
      "Rock\n",
      "No input\n"
     ]
    }
   ],
   "source": [
    "User_value = input(\"Input your choice: \")\n",
    "Computer_value = [\"Rock\",\"Paper\",\"Scissor\"]\n",
    "random_computer = random.choice(Computer_value)\n",
    "print(random_computer)\n",
    "if User_value.lower() == \"rock\":\n",
    "    if random_computer == \"Scissor\":\n",
    "        print(\"User won\")\n",
    "    elif random_computer == \"Paper\":\n",
    "        print(\"Computer Won\")\n",
    "    else:\n",
    "        print(\"Game Tie\")\n",
    "elif User_value.lower() == \"scissor\":\n",
    "    if random_computer == \"Paper\":\n",
    "        print(\"User won\")\n",
    "    elif random_computer == \"Rock\":\n",
    "        print(\"Computer Won\")\n",
    "    else:\n",
    "        print(\"Game Tie\")\n",
    "elif User_value.lower() == \"paper\":\n",
    "    if random_computer == \"Rock\":\n",
    "        print(\"User won\")\n",
    "    elif random_computer == \"Scissor\":\n",
    "        print(\"Computer Won\")\n",
    "    else:\n",
    "        print(\"Game Tie\")\n",
    "else:\n",
    "    print(\"No input\")\n",
    "    "
   ]
  },
  {
   "cell_type": "code",
   "execution_count": null,
   "metadata": {},
   "outputs": [],
   "source": []
  }
 ],
 "metadata": {
  "kernelspec": {
   "display_name": "Python 3",
   "language": "python",
   "name": "python3"
  },
  "language_info": {
   "codemirror_mode": {
    "name": "ipython",
    "version": 3
   },
   "file_extension": ".py",
   "mimetype": "text/x-python",
   "name": "python",
   "nbconvert_exporter": "python",
   "pygments_lexer": "ipython3",
   "version": "3.7.6"
  }
 },
 "nbformat": 4,
 "nbformat_minor": 4
}
