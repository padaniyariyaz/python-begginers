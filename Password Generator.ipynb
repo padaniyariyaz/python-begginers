{
 "cells": [
  {
   "cell_type": "code",
   "execution_count": 3,
   "metadata": {},
   "outputs": [
    {
     "name": "stdout",
     "output_type": "stream",
     "text": [
      "The length of password: 14\n",
      "Numbers in password: 5\n",
      "Your password is bqUQCvwy06218@\n"
     ]
    }
   ],
   "source": [
    "import random\n",
    "import string\n",
    "def pass_gen(length,num_char):\n",
    "    special_char = [\"$\",\"@\",\"%\",\"!\",\"&\"]\n",
    "    pass_char = length-num_char-1 \n",
    "    char = random.sample(string.ascii_letters,pass_char)\n",
    "    char = \"\".join(char)\n",
    "    num = random.sample(range(9),num_char)\n",
    "    num = \"\".join(str(i) for i in num)\n",
    "    spcl = random.choice(special_char)\n",
    "    print(\"Your password is\", char+num+spcl)\n",
    "    \n",
    "length = int(input(\"The length of password: \"))\n",
    "if length<6:\n",
    "    print(\"Required password length more than 6\")\n",
    "else:\n",
    "    num_char = int(input(\"Numbers in password: \"))\n",
    "    pass_gen(length,num_char)\n",
    "\n",
    "\n"
   ]
  },
  {
   "cell_type": "code",
   "execution_count": null,
   "metadata": {},
   "outputs": [],
   "source": []
  }
 ],
 "metadata": {
  "kernelspec": {
   "display_name": "Python 3",
   "language": "python",
   "name": "python3"
  },
  "language_info": {
   "codemirror_mode": {
    "name": "ipython",
    "version": 3
   },
   "file_extension": ".py",
   "mimetype": "text/x-python",
   "name": "python",
   "nbconvert_exporter": "python",
   "pygments_lexer": "ipython3",
   "version": "3.7.6"
  }
 },
 "nbformat": 4,
 "nbformat_minor": 4
}
